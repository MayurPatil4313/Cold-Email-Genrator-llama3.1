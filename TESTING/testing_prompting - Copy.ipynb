{
 "cells": [
  {
   "cell_type": "markdown",
   "metadata": {},
   "source": [
    "LLM Setup"
   ]
  },
  {
   "cell_type": "code",
   "execution_count": 2,
   "metadata": {},
   "outputs": [],
   "source": [
    "import os\n",
    "from dotenv import load_dotenv\n",
    "load_dotenv()\n",
    "api_key = os.getenv(\"API_KEY\")"
   ]
  },
  {
   "cell_type": "code",
   "execution_count": 3,
   "metadata": {},
   "outputs": [],
   "source": [
    "from langchain_groq import ChatGroq\n",
    "llm = ChatGroq(\n",
    "    model=\"llama3-70b-8192\",\n",
    "    temperature = 0,\n",
    "    groq_api_key = api_key\n",
    ")"
   ]
  },
  {
   "cell_type": "markdown",
   "metadata": {},
   "source": [
    "Web Scrapping setup"
   ]
  },
  {
   "cell_type": "code",
   "execution_count": 4,
   "metadata": {},
   "outputs": [
    {
     "name": "stderr",
     "output_type": "stream",
     "text": [
      "USER_AGENT environment variable not set, consider setting it to identify your requests.\n"
     ]
    }
   ],
   "source": [
    "from langchain_community.document_loaders import WebBaseLoader\n",
    "\n",
    "loader = WebBaseLoader(\"https://careers.nike.com/lead-data-scientist/job/R-62512\")"
   ]
  },
  {
   "cell_type": "code",
   "execution_count": 5,
   "metadata": {},
   "outputs": [
    {
     "data": {
      "text/plain": [
       "'\\n\\n\\n\\n\\n\\n\\n\\n\\n\\n\\n\\n\\n\\n\\n\\n\\n\\n\\n\\n\\nLead Data Scientist\\n\\n\\n\\n\\n\\n\\n\\n\\n\\n\\n\\n\\n\\n\\n\\n\\n\\n\\n\\n\\n\\n\\n\\n\\n\\n\\n\\n\\n\\n\\n\\n\\n\\n\\n\\n\\n\\n\\n\\n\\n\\n\\nSkip to main content\\nOpen Virtual Assistant\\n\\n\\n\\n\\n\\n\\n\\n\\n\\n\\nHome\\n\\n\\nCareer Areas\\n\\n\\nTotal Rewards\\n\\n\\nLife@Nike\\n\\n\\nPurpose\\n\\n\\n\\n\\n\\n\\n\\n\\n\\n\\nLanguage\\n\\n\\n\\n\\n\\nSelect a Language\\n\\n  Deutsch  \\n  English  \\n  Español (España)  \\n  Español (América Latina)  \\n  Français  \\n  Italiano  \\n  Nederlands  \\n  Polski  \\n  Tiếng Việt  \\n  Türkçe  \\n  简体中文  \\n  繁體中文  \\n  עִברִית  \\n  한국어  \\n  日本語  \\n\\n\\n\\n\\n\\n\\n\\n\\nCareers\\n\\n\\n\\n\\n\\n\\n\\n\\n\\n\\n\\n\\n\\n\\n\\n\\n\\n\\nClose Menu\\n\\n\\n\\n\\n\\n\\n\\nCareers\\n\\n\\n\\n\\n\\n\\nChat\\n\\n\\n\\n\\n\\n\\n                                Home\\n                            \\n\\n\\n\\n                                Career Areas\\n                            \\n\\n\\n\\n                                Total Rewards\\n                            \\n\\n\\n\\n                                Life@Nike\\n                            \\n\\n\\n\\n                                Purpose\\n                            \\n\\n\\n\\n\\n\\n\\n\\n\\n\\n\\nJordan Careers\\n\\n\\n\\n\\n\\n\\n\\nConverse Careers\\n\\n\\n\\n\\n\\n\\n\\n\\n\\n\\nLanguage\\n\\n\\n\\n\\n\\n\\n\\n\\n\\n\\n\\nMenu\\n\\n\\n\\nReturn to Previous Menu\\n\\n\\n\\nSelect a Language\\n\\n  Deutsch  \\n  English  \\n  Español (España)  \\n  Español (América Latina)  \\n  Français  \\n  Italiano  \\n  Nederlands  \\n  Polski  \\n  Tiếng Việt  \\n  Türkçe  \\n  简体中文  \\n  繁體中文  \\n  עִברִית  \\n  한국어  \\n  日本語  \\n\\n\\n\\n\\n\\n\\n\\n\\n\\n\\n\\n\\n\\n\\n\\n                        Back to Search\\n\\n                    \\n\\nLead Data Scientist\\n\\n\\nCategories ID\\n\\n\\n\\nCategories URL\\n\\n\\n\\nPosition Type\\n\\n\\n\\nDate Posted\\n\\n\\n\\nPrimary Quest ID\\n\\n\\n\\nSecond Quest ID\\n\\n\\n\\nJob Classification\\n\\n\\n\\n\\nCareer area\\nData Science and Advanced Analytics\\n\\n\\nLocation\\n1 Bowerman Drive, Beaverton, Oregon 97005, United States\\n\\n\\n\\nJob ID\\nR-62512\\n\\n\\n\\n\\n\\n                            Apply Now\\n                        \\n\\n\\n\\n\\n\\n\\nShare Job\\n\\n\\n\\n\\nShare Job Posting\\n\\n\\n\\n\\n\\n\\nFacebook\\nOpens In A New Tab\\n\\n\\n\\n\\n\\n\\n\\nLinkedIn\\nLink Opens In New Window\\n\\n\\n\\n\\n\\n\\n\\n\\nEmail\\n\\n\\n\\n\\n\\n\\nClose-Medium (Default Size)-icon\\n\\nClose Menu\\n\\n\\n\\n\\n\\n\\n\\n\\n\\n\\n\\n\\n\\nBecome a Part of the NIKE, Inc. Team\\nNIKE, Inc. does more than outfit the world’s best athletes. It is a place to explore\\n                            potential, obliterate boundaries\\n                            and push out the edges of what can be. The company looks for people who can grow, think,\\n                            dream and create. Its\\n                            culture thrives by embracing diversity and rewarding imagination. The brand seeks achievers,\\n                            leaders and\\n                            visionaries. At NIKE, Inc. it’s about each person bringing skills and passion to a\\n                            challenging and constantly\\n                            evolving game.\\n\\nLead Data Scientist - Nike Retail Services Inc. - Beaverton, OR. Design, develop, and program methods, processes, and systems to consolidate and analyze structured/unstructured diverse sources to generate actionable insights and solutions for client services and product enhancement; build products for analysis; interact with product and service teams to identify questions and issues for data analysis and experiments; develop and code software programs, algorithms and automated processes to cleanse, integrate, and evaluate large datasets from multiple disparate sources; identify meaningful insights from large data and metadata sources; interpret and communicate insights and findings from analysis and experiments to product, service, and business managers; lead others to solve complex problems; and anticipate customer needs. Telecommuting is available from anywhere in the U.S., except from AK, HI, MT, NC, ND, SD, VT, and WY.\\xa0\\xa0Employer will accept a Master’s degree in Computer Science or Management Information Systems and four (4) years experience in the job offered or in a data-related occupation. \\xa0\\xa0Experience must include:\\xa0\\xa0• Python\\xa0• Machine Learning\\xa0• Statistics\\xa0• Business Intelligence\\xa0• Data Analytics\\xa0• SQL programming\\xa0• Data Visualization\\xa0• Time Series Forecasting.\\xa0\\xa0\\xa0Apply at www.Nike.com/Careers (Job# R-62512)\\xa0\\xa0#LI-DNIWe offer a number of accommodations to complete our interview process including screen readers, sign language interpreters, accessible and single location for in-person interviews, closed captioning, and other reasonable modifications as needed. If you discover, as you navigate our application process, that you need assistance or an accommodation due to a disability, please complete the Candidate Accommodation Request Form.\\n\\nNIKE, Inc. is a growth company that looks for team members to grow with it. Nike offers a\\n                            generous total rewards\\n                            package, casual work environment, a diverse and inclusive culture, and an electric\\n                            atmosphere for professional\\n                            development. No matter the location, or the role, every Nike employee shares one galvanizing\\n                            mission: To bring\\n                            inspiration and innovation to every athlete* in the world.\\nNIKE, Inc. is an equal opportunity employer. Qualified applicants will receive\\n                            consideration without\\n                            regard to race, color, religion, sex, national origin, age, sexual orientation, gender\\n                            identity, gender expression,\\n                            veteran status, or disability.\\n\\n\\n\\n\\n                                Apply Now\\n                            \\n\\n\\n\\n\\n\\n\\nShare Job\\n\\n\\n\\n\\nShare Job Posting\\n\\n\\n\\n\\n\\n\\nFaceboox\\nOpens In A New Tab\\n\\n\\n\\n\\n\\n\\n\\nLinkedIn\\nLink Opens In New Window\\n\\n\\n\\n\\n\\n\\n\\n\\nEmail\\n\\n\\n\\n\\n\\n\\nClose-Medium (Default Size)-icon\\n\\nClose Menu\\n\\n\\n\\n\\n\\n\\n\\n\\n\\n\\n\\nWhat You Can Expect\\nOUR HIRING GAME PLAN\\n\\n\\n01 Apply\\nOur teams are made up of diverse skillsets, knowledge bases, inputs, ideas and backgrounds.\\n                            We want you to find your fit – review job descriptions, departments and teams to discover\\n                            the role for you.\\n\\n\\n02 Meet a Recruiter or Take an Assessment\\nIf selected for a corporate role, a recruiter will reach out to start your interview process\\n                            and be your main contact\\n                            throughout the process. For retail roles, you’ll complete an interactive assessment that\\n                            includes a chat and quizzes and\\n                            takes about 10-20 minutes to complete.\\xa0 No matter the role, we want to learn about you – the\\n                            whole you – so don’t shy\\n                            away from how you approach world-class service and what makes you unique.\\n\\n\\n03 Interview\\nGo into this stage confident by doing your research, understanding what we are looking for\\n                            and being prepared for\\n                            questions that are set up to learn more about you, and your background.\\n\\n\\n\\n\\n\\n\\n\\n\\n\\n\\n\\n\\n\\n\\n\\n\\n\\n\\n\\n\\n\\n\\n\\n\\nHome\\n\\n\\nAbout Us\\n\\n\\nContact\\n\\n\\nTalent Community\\n\\n\\nTerms\\n\\n\\n\\n\\n\\n\\n\\n\\n\\n\\n\\n\\n\\n\\n\\n\\n\\n\\n\\n\\n\\n\\n\\n\\n\\n\\n\\n\\n\\n\\n\\n\\n\\n\\n\\n\\n\\n\\n\\n\\n\\n\\n              \\n                   \\n                    Nike Applicant Privacy Policy\\n                    \\n\\n\\n\\n\\n\\nWe offer a number of accommodations to complete our interview process including screen readers, sign language interpreters,\\n                accessible and single location for in-person interviews, closed captioning, and other reasonable modifications as\\n                needed.\\n\\n\\nIf you discover, as you navigate our application process, that you need assistance or an accommodation due to a\\n                disability, please contact us at +1 503-671-4156 and include your full name, best way to reach you, and the\\n                accommodation you request to assist with the application process.\\nFor more information, please refer to Equal Employment\\n                        Opportunity is The Law.\\n\\n\\n\\n©  Nike, Inc. All Rights Reserved\\n\\n\\n\\n\\n\\n\\n\\n\\n\\n\\n\\n\\n\\nCareers\\n\\n\\n\\n\\n\\n\\n\\n\\nChat\\nChat with our AI Assistant\\n\\n\\n\\n\\n\\n\\n\\n\\n\\n\\n\\n\\n\\n\\n\\n'"
      ]
     },
     "execution_count": 5,
     "metadata": {},
     "output_type": "execute_result"
    }
   ],
   "source": [
    "page_data = loader.load().pop().page_content\n",
    "page_data"
   ]
  },
  {
   "cell_type": "markdown",
   "metadata": {},
   "source": [
    "PromptTempleate"
   ]
  },
  {
   "cell_type": "code",
   "execution_count": 6,
   "metadata": {},
   "outputs": [],
   "source": [
    "from langchain_core.prompts import PromptTemplate\n",
    "\n",
    "prompt_extract = PromptTemplate.from_template(\n",
    "        \"\"\"\n",
    "        ### SCRAPED TEXT FROM WEBSITE:\n",
    "        {page_data}\n",
    "        ### INSTRUCTION:\n",
    "        The scraped text is from the career's page of a website.\n",
    "        Your job is to extract the job postings and return them in JSON format containing the \n",
    "        following keys: `role`, `experience`, `skills` and `description`.\n",
    "        Only return the valid JSON.\n",
    "        ### VALID JSON (NO PREAMBLE):    \n",
    "        \"\"\"\n",
    ")"
   ]
  },
  {
   "cell_type": "code",
   "execution_count": 7,
   "metadata": {},
   "outputs": [
    {
     "name": "stdout",
     "output_type": "stream",
     "text": [
      "[\n",
      "    {\n",
      "        \"role\": \"Lead Data Scientist\",\n",
      "        \"experience\": \"4 years\",\n",
      "        \"skills\": [\"Python\", \"Machine Learning\", \"Statistics\", \"Business Intelligence\", \"Data Analytics\", \"SQL programming\", \"Data Visualization\", \"Time Series Forecasting\"],\n",
      "        \"description\": \"Design, develop, and program methods, processes, and systems to consolidate and analyze structured/unstructured diverse sources to generate actionable insights and solutions for client services and product enhancement; build products for analysis; interact with product and service teams to identify questions and issues for data analysis and experiments; develop and code software programs, algorithms and automated processes to cleanse, integrate, and evaluate large datasets from multiple disparate sources; identify meaningful insights from large data and metadata sources; interpret and communicate insights and findings from analysis and experiments to product, service, and business managers; lead others to solve complex problems; and anticipate customer needs.\"\n",
      "    }\n",
      "]\n"
     ]
    }
   ],
   "source": [
    "chain_extract = prompt_extract | llm\n",
    "res = chain_extract.invoke(input={'page_data':page_data})\n",
    "print(res.content)"
   ]
  },
  {
   "cell_type": "code",
   "execution_count": 8,
   "metadata": {},
   "outputs": [
    {
     "name": "stdout",
     "output_type": "stream",
     "text": [
      "<class 'str'>\n"
     ]
    }
   ],
   "source": [
    "print(type(res.content))"
   ]
  },
  {
   "cell_type": "markdown",
   "metadata": {},
   "source": [
    "parse llm output to json object"
   ]
  },
  {
   "cell_type": "code",
   "execution_count": 21,
   "metadata": {},
   "outputs": [
    {
     "data": {
      "text/plain": [
       "{'role': 'Lead Data Scientist',\n",
       " 'experience': '4 years',\n",
       " 'skills': ['Python',\n",
       "  'Machine Learning',\n",
       "  'Statistics',\n",
       "  'Business Intelligence',\n",
       "  'Data Analytics',\n",
       "  'SQL programming',\n",
       "  'Data Visualization',\n",
       "  'Time Series Forecasting'],\n",
       " 'description': 'Design, develop, and program methods, processes, and systems to consolidate and analyze structured/unstructured diverse sources to generate actionable insights and solutions for client services and product enhancement; build products for analysis; interact with product and service teams to identify questions and issues for data analysis and experiments; develop and code software programs, algorithms and automated processes to cleanse, integrate, and evaluate large datasets from multiple disparate sources; identify meaningful insights from large data and metadata sources; interpret and communicate insights and findings from analysis and experiments to product, service, and business managers; lead others to solve complex problems; and anticipate customer needs.'}"
      ]
     },
     "execution_count": 21,
     "metadata": {},
     "output_type": "execute_result"
    }
   ],
   "source": [
    "from langchain_core.output_parsers.json import JsonOutputParser\n",
    "json_parse = JsonOutputParser()\n",
    "json_res = json_parse.parse(res.content)\n",
    "if isinstance(json_res, list) and len(json_res) == 1:\n",
    "    json_res = json_res[0]\n",
    "json_res"
   ]
  },
  {
   "cell_type": "code",
   "execution_count": 22,
   "metadata": {},
   "outputs": [
    {
     "data": {
      "text/plain": [
       "dict"
      ]
     },
     "execution_count": 22,
     "metadata": {},
     "output_type": "execute_result"
    }
   ],
   "source": [
    "type(json_res)"
   ]
  },
  {
   "cell_type": "code",
   "execution_count": 23,
   "metadata": {},
   "outputs": [
    {
     "data": {
      "text/plain": [
       "['Python',\n",
       " 'Machine Learning',\n",
       " 'Statistics',\n",
       " 'Business Intelligence',\n",
       " 'Data Analytics',\n",
       " 'SQL programming',\n",
       " 'Data Visualization',\n",
       " 'Time Series Forecasting']"
      ]
     },
     "execution_count": 23,
     "metadata": {},
     "output_type": "execute_result"
    }
   ],
   "source": [
    "job = json_res\n",
    "job['skills']"
   ]
  }
 ],
 "metadata": {
  "kernelspec": {
   "display_name": "Python 3",
   "language": "python",
   "name": "python3"
  },
  "language_info": {
   "codemirror_mode": {
    "name": "ipython",
    "version": 3
   },
   "file_extension": ".py",
   "mimetype": "text/x-python",
   "name": "python",
   "nbconvert_exporter": "python",
   "pygments_lexer": "ipython3",
   "version": "3.11.4"
  }
 },
 "nbformat": 4,
 "nbformat_minor": 5
}
