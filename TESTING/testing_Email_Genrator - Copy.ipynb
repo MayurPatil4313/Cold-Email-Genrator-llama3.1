{
 "cells": [
  {
   "cell_type": "markdown",
   "id": "13e4cd1b",
   "metadata": {},
   "source": [
    "setup LLM"
   ]
  },
  {
   "cell_type": "code",
   "execution_count": 1,
   "id": "04b4c849",
   "metadata": {},
   "outputs": [],
   "source": [
    "import os\n",
    "from dotenv import load_dotenv\n",
    "load_dotenv()\n",
    "from langchain_groq import ChatGroq\n",
    "api_key = os.getenv(\"API_KEY\")\n",
    "\n",
    "llm = ChatGroq(\n",
    "    model=\"llama3-70b-8192\",\n",
    "    temperature = 0,\n",
    "    groq_api_key = api_key\n",
    ")"
   ]
  },
  {
   "cell_type": "code",
   "execution_count": 2,
   "id": "74931ac4",
   "metadata": {},
   "outputs": [
    {
     "name": "stderr",
     "output_type": "stream",
     "text": [
      "USER_AGENT environment variable not set, consider setting it to identify your requests.\n"
     ]
    }
   ],
   "source": [
    "from langchain_community.document_loaders import WebBaseLoader\n",
    "\n",
    "loader = WebBaseLoader(\"https://careers.nike.com/lead-data-scientist/job/R-62512\")\n",
    "page_data = loader.load().pop().page_content"
   ]
  },
  {
   "cell_type": "code",
   "execution_count": 3,
   "id": "7a1faa4d",
   "metadata": {},
   "outputs": [],
   "source": [
    "SENDER_NAME = os.getenv(\"SENDER_NAME\")\n",
    "SERVICE_ORG_NAME = os.getenv(\"SERVICE_ORG_NAME\")"
   ]
  },
  {
   "cell_type": "code",
   "execution_count": 4,
   "id": "88bf30f9",
   "metadata": {},
   "outputs": [],
   "source": [
    "from langchain_core.prompts import PromptTemplate\n",
    "\n",
    "prompt_email = PromptTemplate.from_template(\n",
    "    \"\"\"\n",
    "        ### JOB DESCRIPTION:\n",
    "        {job_description}\n",
    "        \n",
    "        ### INSTRUCTION:\n",
    "        You are {SENDER_NAME}, a business development executive at {SERVICE_ORG_NAME}. {SERVICE_ORG_NAME} is an AI & Software Consulting company dedicated to facilitating\n",
    "        the seamless integration of business processes through automated tools. \n",
    "        Over our experience, we have empowered numerous enterprises with tailored solutions, fostering scalability, \n",
    "        process optimization, cost reduction, and heightened overall efficiency. \n",
    "        Your job is to write a cold email to the client regarding the job mentioned above describing the capability of {SERVICE_ORG_NAME}\n",
    "        in fulfilling their needs.\n",
    "        Also add the most relevant ones from the following links to showcase {SERVICE_ORG_NAME}'s portfolio: {link_list}\n",
    "        Remember you are Mohan, BDE at {SERVICE_ORG_NAME}. \n",
    "        Do not provide a preamble.\n",
    "        ### EMAIL (NO PREAMBLE):\n",
    "        \n",
    "        \"\"\"\n",
    ")\n",
    "chain_email = prompt_email | llm\n",
    "res = chain_email.invoke(\n",
    "    {\n",
    "        \"job_description\": page_data,\n",
    "        \"link_list\": page_data,\n",
    "        \"SENDER_NAME\": SENDER_NAME,\n",
    "        \"SERVICE_ORG_NAME\": SERVICE_ORG_NAME,\n",
    "    }\n",
    ")"
   ]
  },
  {
   "cell_type": "code",
   "execution_count": 5,
   "id": "64b751f7",
   "metadata": {},
   "outputs": [
    {
     "name": "stdout",
     "output_type": "stream",
     "text": [
      "Subject: Unlocking Data-Driven Insights for Nike Retail Services Inc.\n",
      "\n",
      "Dear Hiring Manager,\n",
      "\n",
      "I came across the Lead Data Scientist position at Nike Retail Services Inc. and was impressed by the company's commitment to innovation and customer-centricity. As a Business Development Executive at AtliQ, I believe our expertise in AI and software consulting can help Nike unlock the full potential of its data.\n",
      "\n",
      "AtliQ has a proven track record of empowering enterprises with tailored solutions that foster scalability, process optimization, cost reduction, and heightened overall efficiency. Our team of experts has successfully implemented data analytics and machine learning solutions for various industries, including retail.\n",
      "\n",
      "Our capabilities align with the requirements of the Lead Data Scientist role, including:\n",
      "\n",
      "* Developing and programming methods to consolidate and analyze structured/unstructured data sources\n",
      "* Building products for analysis and identifying meaningful insights from large datasets\n",
      "* Interacting with product and service teams to identify questions and issues for data analysis and experiments\n",
      "* Developing and coding software programs, algorithms, and automated processes to cleanse, integrate, and evaluate large datasets\n",
      "\n",
      "Some of our notable projects that demonstrate our expertise in data science and advanced analytics include:\n",
      "\n",
      "* [Project 1: Predictive Maintenance for Manufacturing](https://atliq.com/case-studies/predictive-maintenance-for-manufacturing/)\n",
      "* [Project 2: Customer Segmentation for Retail](https://atliq.com/case-studies/customer-segmentation-for-retail/)\n",
      "* [Project 3: Supply Chain Optimization for Logistics](https://atliq.com/case-studies/supply-chain-optimization-for-logistics/)\n",
      "\n",
      "I would be delighted to discuss how AtliQ can support Nike Retail Services Inc. in achieving its data-driven goals. Please feel free to reach out to me at [Your Email] or [Your Phone Number] to explore this opportunity further.\n",
      "\n",
      "Best regards,\n",
      "\n",
      "Mayur Patil\n",
      "Business Development Executive\n",
      "AtliQ\n"
     ]
    }
   ],
   "source": [
    "print(res.content)"
   ]
  },
  {
   "cell_type": "code",
   "execution_count": null,
   "id": "b680e10e",
   "metadata": {},
   "outputs": [],
   "source": []
  },
  {
   "cell_type": "code",
   "execution_count": null,
   "id": "c715e5be",
   "metadata": {},
   "outputs": [],
   "source": []
  },
  {
   "cell_type": "code",
   "execution_count": null,
   "id": "3d3fbdd7",
   "metadata": {},
   "outputs": [],
   "source": []
  }
 ],
 "metadata": {
  "kernelspec": {
   "display_name": "Python 3",
   "language": "python",
   "name": "python3"
  },
  "language_info": {
   "codemirror_mode": {
    "name": "ipython",
    "version": 3
   },
   "file_extension": ".py",
   "mimetype": "text/x-python",
   "name": "python",
   "nbconvert_exporter": "python",
   "pygments_lexer": "ipython3",
   "version": "3.11.4"
  }
 },
 "nbformat": 4,
 "nbformat_minor": 5
}
