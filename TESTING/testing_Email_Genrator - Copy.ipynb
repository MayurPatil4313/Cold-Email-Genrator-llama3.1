{
 "cells": [
  {
   "cell_type": "markdown",
   "id": "13e4cd1b",
   "metadata": {},
   "source": [
    "setup LLM"
   ]
  },
  {
   "cell_type": "code",
   "execution_count": 1,
   "id": "04b4c849",
   "metadata": {},
   "outputs": [],
   "source": [
    "import os\n",
    "from dotenv import load_dotenv\n",
    "load_dotenv()\n",
    "from langchain_groq import ChatGroq\n",
    "api_key = os.getenv(\"API_KEY\")\n",
    "\n",
    "llm = ChatGroq(\n",
    "    model=\"llama3-70b-8192\",\n",
    "    temperature = 0,\n",
    "    groq_api_key = api_key\n",
    ")"
   ]
  },
  {
   "cell_type": "code",
   "execution_count": 5,
   "id": "accf1330",
   "metadata": {},
   "outputs": [
    {
     "data": {
      "text/plain": [
       "'The 7 Wonders of the World! Here are the original 7 Wonders of the Ancient World, as well as the New 7 Wonders of the World:\\n\\n**Original 7 Wonders of the Ancient World (circa 2500 BCE):**\\n\\n1. **The Great Pyramid of Giza** (Egypt): The oldest and only surviving structure of the original 7 Wonders, this pyramid is an engineering marvel and a testament to ancient Egyptian civilization.\\n2. **The Hanging Gardens of Babylon** (Babylon, present-day Iraq): A beautiful garden said to have been built by the Neo-Babylonian King Nebuchadnezzar II for his wife, Queen Amytis.\\n3. **The Statue of Zeus at Olympia** (Greece): A massive statue of the Greek god Zeus, built by the famous sculptor Phidias and located in the temple of Zeus at Olympia.\\n4. **The Temple of Artemis at Ephesus** (Present-day Turkey): A massive temple dedicated to the Greek goddess Artemis, built to honor her and to serve as a place of worship.\\n5. **The Mausoleum at Halicarnassus** (Present-day Turkey): A grand tomb built for King Mausolus, a satrap (governor) of the ancient Persian Empire.\\n6. **The Colossus of Rhodes** (Greece): A massive bronze statue of the Greek god Helios, built in the Greek city of Rhodes.\\n7. **The Lighthouse of Alexandria** (Egypt): A towering lighthouse built on the island of Pharos in Alexandria, Egypt, to serve as a beacon for ships.\\n\\n**New 7 Wonders of the World (2007):**\\n\\nIn 2007, a new list of the 7 Wonders of the World was compiled through a worldwide poll. Here are the winners:\\n\\n1. **The Great Wall of China**: A series of fortifications built across the northern borders of China to protect the country from invasions.\\n2. **The Taj Mahal** (India): A stunning white marble mausoleum built by Mughal Emperor Shah Jahan in memory of his wife, Mumtaz Mahal.\\n3. **Machu Picchu** (Peru): An Inca citadel built in the 15th century, abandoned before the arrival of the Spanish, and rediscovered in the 20th century.\\n4. **Chichén Itzá** (Mexico): A pre-Columbian Mayan city built by the Maya civilization, known for its pyramid, temples, and astronomical observatories.\\n5. **The Roman Colosseum** (Italy): An amphitheater built in the 1st century CE, one of the greatest architectural and engineering achievements of the ancient Roman world.\\n6. **The Christ the Redeemer statue** (Brazil): A massive Art Deco statue of Jesus Christ, designed by French sculptor Paul Landowski and built by Brazilian engineer Heitor da Silva Costa.\\n7. **The Pyramids of Giza** (Egypt): The oldest and only surviving structure of the original 7 Wonders, this pyramid complex is an engineering marvel and a testament to ancient Egyptian civilization.\\n\\nThese lists are a testament to human ingenuity, creativity, and perseverance, and they continue to inspire wonder and awe in people around the world.'"
      ]
     },
     "execution_count": 5,
     "metadata": {},
     "output_type": "execute_result"
    }
   ],
   "source": [
    "llm_res = llm.invoke('7 wonders of world')\n",
    "llm_res.content"
   ]
  },
  {
   "cell_type": "markdown",
   "id": "fa3eed13",
   "metadata": {},
   "source": [
    "setup webscrapping"
   ]
  },
  {
   "cell_type": "code",
   "execution_count": 2,
   "id": "74931ac4",
   "metadata": {},
   "outputs": [
    {
     "name": "stderr",
     "output_type": "stream",
     "text": [
      "USER_AGENT environment variable not set, consider setting it to identify your requests.\n"
     ]
    }
   ],
   "source": [
    "from langchain_community.document_loaders import WebBaseLoader\n",
    "\n",
    "loader = WebBaseLoader(\"https://careers.nike.com/lead-data-scientist/job/R-62512\")\n",
    "page_data = loader.load().pop().page_content"
   ]
  },
  {
   "cell_type": "code",
   "execution_count": 3,
   "id": "7a1faa4d",
   "metadata": {},
   "outputs": [],
   "source": [
    "SENDER_NAME = os.getenv(\"SENDER_NAME\")\n",
    "SERVICE_ORG_NAME = os.getenv(\"SERVICE_ORG_NAME\")"
   ]
  },
  {
   "cell_type": "code",
   "execution_count": null,
   "id": "88bf30f9",
   "metadata": {},
   "outputs": [],
   "source": [
    "from langchain_core.prompts import PromptTemplate\n",
    "\n",
    "prompt_email = PromptTemplate.from_template(\n",
    "    \"\"\"\n",
    "        ### JOB DESCRIPTION:\n",
    "        {job_description}\n",
    "        \n",
    "        ### INSTRUCTION:\n",
    "        You are {SENDER_NAME}, a business development executive at {SERVICE_ORG_NAME}. {SERVICE_ORG_NAME} is an AI & Software Consulting company dedicated to facilitating\n",
    "        the seamless integration of business processes through automated tools. \n",
    "        Over our experience, we have empowered numerous enterprises with tailored solutions, fostering scalability, \n",
    "        process optimization, cost reduction, and heightened overall efficiency. \n",
    "        Your job is to write a cold email to the client regarding the job mentioned above describing the capability of {SERVICE_ORG_NAME}\n",
    "        in fulfilling their needs.\n",
    "        Also add the most relevant ones from the following links to showcase {SERVICE_ORG_NAME}'s portfolio: {link_list}\n",
    "        Remember you are {SENDER_NAME}, BDE at {SERVICE_ORG_NAME}. \n",
    "        Do not provide a preamble.\n",
    "        ### EMAIL (NO PREAMBLE):\n",
    "        \n",
    "        \"\"\"\n",
    ")\n",
    "chain_email = prompt_email | llm\n",
    "res = chain_email.invoke(\n",
    "    {\n",
    "        \"job_description\": page_data,\n",
    "        \"link_list\": page_data,\n",
    "        \"SENDER_NAME\": SENDER_NAME,\n",
    "        \"SERVICE_ORG_NAME\": SERVICE_ORG_NAME,\n",
    "    }\n",
    ")"
   ]
  },
  {
   "cell_type": "code",
   "execution_count": 7,
   "id": "64b751f7",
   "metadata": {},
   "outputs": [
    {
     "name": "stdout",
     "output_type": "stream",
     "text": [
      "Subject: Unlocking Data-Driven Insights for Nike Retail Services Inc.\n",
      "\n",
      "Dear Hiring Manager,\n",
      "\n",
      "I came across the Lead Data Scientist position at Nike Retail Services Inc. and was impressed by the company's commitment to innovation and customer-centricity. As a Business Development Executive at AtliQ, I believe our expertise in AI and software consulting can help Nike unlock the full potential of its data.\n",
      "\n",
      "AtliQ has a proven track record of empowering enterprises with tailored solutions that foster scalability, process optimization, cost reduction, and heightened overall efficiency. Our team of experts has successfully implemented data analytics and machine learning solutions for various industries, including retail.\n",
      "\n",
      "Our capabilities align with the requirements of the Lead Data Scientist role, including:\n",
      "\n",
      "* Developing and programming methods to consolidate and analyze structured/unstructured data sources\n",
      "* Building products for analysis and identifying meaningful insights from large datasets\n",
      "* Interacting with product and service teams to identify questions and issues for data analysis and experiments\n",
      "* Developing and coding software programs, algorithms, and automated processes to cleanse, integrate, and evaluate large datasets\n",
      "\n",
      "Some of our notable projects that demonstrate our expertise include:\n",
      "\n",
      "* [Project 1: Predictive Maintenance for Manufacturing](https://atliq.com/case-studies/predictive-maintenance-for-manufacturing/)\n",
      "* [Project 2: AI-Powered Chatbot for Customer Service](https://atliq.com/case-studies/ai-powered-chatbot-for-customer-service/)\n",
      "* [Project 3: Data Analytics for Supply Chain Optimization](https://atliq.com/case-studies/data-analytics-for-supply-chain-optimization/)\n",
      "\n",
      "I would be delighted to discuss how AtliQ can support Nike Retail Services Inc. in achieving its data-driven goals. Please feel free to reach out to me at [Your Email] or [Your Phone Number] to explore this opportunity further.\n",
      "\n",
      "Best regards,\n",
      "\n",
      "Mayur Patil\n",
      "Business Development Executive\n",
      "AtliQ\n"
     ]
    }
   ],
   "source": [
    "print(res.content)"
   ]
  },
  {
   "cell_type": "code",
   "execution_count": null,
   "id": "3d3fbdd7",
   "metadata": {},
   "outputs": [],
   "source": []
  }
 ],
 "metadata": {
  "kernelspec": {
   "display_name": "Python 3",
   "language": "python",
   "name": "python3"
  },
  "language_info": {
   "codemirror_mode": {
    "name": "ipython",
    "version": 3
   },
   "file_extension": ".py",
   "mimetype": "text/x-python",
   "name": "python",
   "nbconvert_exporter": "python",
   "pygments_lexer": "ipython3",
   "version": "3.11.4"
  }
 },
 "nbformat": 4,
 "nbformat_minor": 5
}
