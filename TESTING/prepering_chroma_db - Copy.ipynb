{
 "cells": [
  {
   "cell_type": "code",
   "execution_count": 14,
   "id": "cb20f852",
   "metadata": {},
   "outputs": [],
   "source": [
    "import pandas as pd"
   ]
  },
  {
   "cell_type": "code",
   "execution_count": 15,
   "id": "3bda2119",
   "metadata": {},
   "outputs": [],
   "source": [
    "df = pd.read_csv(r'D:\\Learnbay\\Cold Email Genrator llama3.1\\TESTING\\generated_techstack_portfolio - Copy.csv')"
   ]
  },
  {
   "cell_type": "code",
   "execution_count": 16,
   "id": "4690e583",
   "metadata": {},
   "outputs": [
    {
     "data": {
      "text/html": [
       "<div>\n",
       "<style scoped>\n",
       "    .dataframe tbody tr th:only-of-type {\n",
       "        vertical-align: middle;\n",
       "    }\n",
       "\n",
       "    .dataframe tbody tr th {\n",
       "        vertical-align: top;\n",
       "    }\n",
       "\n",
       "    .dataframe thead th {\n",
       "        text-align: right;\n",
       "    }\n",
       "</style>\n",
       "<table border=\"1\" class=\"dataframe\">\n",
       "  <thead>\n",
       "    <tr style=\"text-align: right;\">\n",
       "      <th></th>\n",
       "      <th>Techstack</th>\n",
       "      <th>Links</th>\n",
       "    </tr>\n",
       "  </thead>\n",
       "  <tbody>\n",
       "    <tr>\n",
       "      <th>0</th>\n",
       "      <td>DevOps, Jenkins, iOS</td>\n",
       "      <td>https://example.com/devops-jenkins-ios-portfolio</td>\n",
       "    </tr>\n",
       "    <tr>\n",
       "      <th>1</th>\n",
       "      <td>Core Data, DevOps, Express.js</td>\n",
       "      <td>https://example.com/coredata-devops-express.js...</td>\n",
       "    </tr>\n",
       "    <tr>\n",
       "      <th>2</th>\n",
       "      <td>Frontend, React Native, Swift</td>\n",
       "      <td>https://example.com/frontend-reactnative-swift...</td>\n",
       "    </tr>\n",
       "    <tr>\n",
       "      <th>3</th>\n",
       "      <td>Express.js, GraphQL, TensorFlow</td>\n",
       "      <td>https://example.com/express.js-graphql-tensorf...</td>\n",
       "    </tr>\n",
       "    <tr>\n",
       "      <th>4</th>\n",
       "      <td>ARKit, Angular, MongoDB</td>\n",
       "      <td>https://example.com/arkit-angular-mongodb-port...</td>\n",
       "    </tr>\n",
       "  </tbody>\n",
       "</table>\n",
       "</div>"
      ],
      "text/plain": [
       "                         Techstack  \\\n",
       "0             DevOps, Jenkins, iOS   \n",
       "1    Core Data, DevOps, Express.js   \n",
       "2    Frontend, React Native, Swift   \n",
       "3  Express.js, GraphQL, TensorFlow   \n",
       "4          ARKit, Angular, MongoDB   \n",
       "\n",
       "                                               Links  \n",
       "0   https://example.com/devops-jenkins-ios-portfolio  \n",
       "1  https://example.com/coredata-devops-express.js...  \n",
       "2  https://example.com/frontend-reactnative-swift...  \n",
       "3  https://example.com/express.js-graphql-tensorf...  \n",
       "4  https://example.com/arkit-angular-mongodb-port...  "
      ]
     },
     "execution_count": 16,
     "metadata": {},
     "output_type": "execute_result"
    }
   ],
   "source": [
    "df.head()"
   ]
  },
  {
   "cell_type": "code",
   "execution_count": 17,
   "id": "c36ccaff",
   "metadata": {},
   "outputs": [
    {
     "data": {
      "text/plain": [
       "(1000, 2)"
      ]
     },
     "execution_count": 17,
     "metadata": {},
     "output_type": "execute_result"
    }
   ],
   "source": [
    "df.shape"
   ]
  },
  {
   "cell_type": "code",
   "execution_count": 18,
   "id": "7d1daa43",
   "metadata": {},
   "outputs": [
    {
     "data": {
      "text/plain": [
       "Index(['Techstack', 'Links'], dtype='object')"
      ]
     },
     "execution_count": 18,
     "metadata": {},
     "output_type": "execute_result"
    }
   ],
   "source": [
    "df.columns"
   ]
  },
  {
   "cell_type": "markdown",
   "id": "3a7bf3fc",
   "metadata": {},
   "source": [
    "saving the df in chormadb"
   ]
  },
  {
   "cell_type": "code",
   "execution_count": 19,
   "id": "7b6e5fad",
   "metadata": {},
   "outputs": [],
   "source": [
    "import chromadb\n",
    "import uuid\n",
    "# Initialize the persistent ChromaDB client\n",
    "client = chromadb.PersistentClient('Vectorstore')\n",
    "\n",
    "# Create (or get) a collection\n",
    "collection = client.get_or_create_collection(name=\"techstack_collection\")\n",
    "\n",
    "# Prepare documents, ids, and metadata\n",
    "documents = df[\"Techstack\"].tolist()\n",
    "metadatas = [{\"Links\": link} for link in df[\"Links\"]]\n",
    "ids = [str(i) for i in df.index]\n",
    "\n",
    "# Add data to the collection\n",
    "collection.add(\n",
    "    documents=documents,\n",
    "    metadatas=metadatas,\n",
    "    ids=ids\n",
    ")"
   ]
  },
  {
   "cell_type": "code",
   "execution_count": 20,
   "id": "62ff0b1d",
   "metadata": {},
   "outputs": [],
   "source": [
    "import chromadb\n",
    "import uuid\n",
    "client = chromadb.PersistentClient('Vectorstore')\n",
    "collection = client.get_or_create_collection(name='portfolio')\n",
    "\n",
    "# if not collection.count():\n",
    "#     for idx , row in df.iterrows():\n",
    "#         collection.add(\n",
    "#             documents=row['Techstack'],\n",
    "#             metadatas={'links': row['Links']},\n",
    "#             ids=[str(uuid.uuid4())]\n",
    "#         )"
   ]
  },
  {
   "cell_type": "code",
   "execution_count": 21,
   "id": "df0be4e7",
   "metadata": {},
   "outputs": [
    {
     "data": {
      "text/plain": [
       "[[{'links': 'https://example.com/docker-machinelearning-python-portfolio'},\n",
       "  {'links': 'https://example.com/machinelearning-oracle-python-portfolio'}],\n",
       " [{'links': 'https://example.com/devops-machinelearning-oracle-portfolio'},\n",
       "  {'links': 'https://example.com/devops-jenkins-magento-portfolio'}]]"
      ]
     },
     "execution_count": 21,
     "metadata": {},
     "output_type": "execute_result"
    }
   ],
   "source": [
    "links = collection.query(query_texts=['Experiance in python', 'Experiance in devops'], n_results=2).get('metadatas')\n",
    "links"
   ]
  },
  {
   "cell_type": "code",
   "execution_count": 22,
   "id": "e7baab2e",
   "metadata": {},
   "outputs": [
    {
     "name": "stdout",
     "output_type": "stream",
     "text": [
      "c:\\Users\\mayur\\AppData\\Local\\Programs\\Python\\Python311\\Lib\\site-packages\\onnxruntime\n"
     ]
    }
   ],
   "source": [
    "import os\n",
    "import onnxruntime\n",
    "print(os.path.dirname(onnxruntime.__file__))"
   ]
  },
  {
   "cell_type": "code",
   "execution_count": 23,
   "id": "f1bcd1d0",
   "metadata": {},
   "outputs": [
    {
     "name": "stdout",
     "output_type": "stream",
     "text": [
      "('64bit', 'WindowsPE')\n"
     ]
    }
   ],
   "source": [
    "import platform\n",
    "print(platform.architecture())"
   ]
  },
  {
   "cell_type": "code",
   "execution_count": 24,
   "id": "e9c431a4",
   "metadata": {},
   "outputs": [],
   "source": [
    "\n",
    "import os\n",
    "os.add_dll_directory(r\"C:\\Users\\mayur\\AppData\\Local\\Programs\\Python\\Python311\\Lib\\site-packages\\onnxruntime\")\n",
    "import onnxruntime\n"
   ]
  },
  {
   "cell_type": "code",
   "execution_count": null,
   "id": "10507614",
   "metadata": {},
   "outputs": [
    {
     "data": {
      "text/plain": [
       "['generated_techstack_portfolio - Copy.csv',\n",
       " 'prepering_chroma_db - Copy.ipynb',\n",
       " 'testing_Email_Genrator - Copy.ipynb',\n",
       " 'testing_prompting - Copy.ipynb',\n",
       " 'test_chremadb - Copy.ipynb',\n",
       " 'test_llama - Copy.ipynb',\n",
       " 'test_web_scrapping - Copy.ipynb',\n",
       " 'Vectorstore',\n",
       " 'Vectorstore - Copy.zip']"
      ]
     },
     "execution_count": 25,
     "metadata": {},
     "output_type": "execute_result"
    }
   ],
   "source": []
  }
 ],
 "metadata": {
  "kernelspec": {
   "display_name": "Python 3",
   "language": "python",
   "name": "python3"
  },
  "language_info": {
   "codemirror_mode": {
    "name": "ipython",
    "version": 3
   },
   "file_extension": ".py",
   "mimetype": "text/x-python",
   "name": "python",
   "nbconvert_exporter": "python",
   "pygments_lexer": "ipython3",
   "version": "3.11.4"
  }
 },
 "nbformat": 4,
 "nbformat_minor": 5
}
