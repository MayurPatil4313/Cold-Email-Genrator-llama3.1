{
 "cells": [
  {
   "cell_type": "code",
   "execution_count": 1,
   "id": "cb20f852",
   "metadata": {},
   "outputs": [],
   "source": [
    "import pandas as pd"
   ]
  },
  {
   "cell_type": "code",
   "execution_count": 2,
   "id": "3bda2119",
   "metadata": {},
   "outputs": [],
   "source": [
    "df = pd.read_csv(r'generated_techstack_portfolio.csv')"
   ]
  },
  {
   "cell_type": "code",
   "execution_count": 3,
   "id": "4690e583",
   "metadata": {},
   "outputs": [
    {
     "data": {
      "text/html": [
       "<div>\n",
       "<style scoped>\n",
       "    .dataframe tbody tr th:only-of-type {\n",
       "        vertical-align: middle;\n",
       "    }\n",
       "\n",
       "    .dataframe tbody tr th {\n",
       "        vertical-align: top;\n",
       "    }\n",
       "\n",
       "    .dataframe thead th {\n",
       "        text-align: right;\n",
       "    }\n",
       "</style>\n",
       "<table border=\"1\" class=\"dataframe\">\n",
       "  <thead>\n",
       "    <tr style=\"text-align: right;\">\n",
       "      <th></th>\n",
       "      <th>Techstack</th>\n",
       "      <th>Links</th>\n",
       "    </tr>\n",
       "  </thead>\n",
       "  <tbody>\n",
       "    <tr>\n",
       "      <th>0</th>\n",
       "      <td>DevOps, Jenkins, iOS</td>\n",
       "      <td>https://example.com/devops-jenkins-ios-portfolio</td>\n",
       "    </tr>\n",
       "    <tr>\n",
       "      <th>1</th>\n",
       "      <td>Core Data, DevOps, Express.js</td>\n",
       "      <td>https://example.com/coredata-devops-express.js...</td>\n",
       "    </tr>\n",
       "    <tr>\n",
       "      <th>2</th>\n",
       "      <td>Frontend, React Native, Swift</td>\n",
       "      <td>https://example.com/frontend-reactnative-swift...</td>\n",
       "    </tr>\n",
       "    <tr>\n",
       "      <th>3</th>\n",
       "      <td>Express.js, GraphQL, TensorFlow</td>\n",
       "      <td>https://example.com/express.js-graphql-tensorf...</td>\n",
       "    </tr>\n",
       "    <tr>\n",
       "      <th>4</th>\n",
       "      <td>ARKit, Angular, MongoDB</td>\n",
       "      <td>https://example.com/arkit-angular-mongodb-port...</td>\n",
       "    </tr>\n",
       "  </tbody>\n",
       "</table>\n",
       "</div>"
      ],
      "text/plain": [
       "                         Techstack  \\\n",
       "0             DevOps, Jenkins, iOS   \n",
       "1    Core Data, DevOps, Express.js   \n",
       "2    Frontend, React Native, Swift   \n",
       "3  Express.js, GraphQL, TensorFlow   \n",
       "4          ARKit, Angular, MongoDB   \n",
       "\n",
       "                                               Links  \n",
       "0   https://example.com/devops-jenkins-ios-portfolio  \n",
       "1  https://example.com/coredata-devops-express.js...  \n",
       "2  https://example.com/frontend-reactnative-swift...  \n",
       "3  https://example.com/express.js-graphql-tensorf...  \n",
       "4  https://example.com/arkit-angular-mongodb-port...  "
      ]
     },
     "execution_count": 3,
     "metadata": {},
     "output_type": "execute_result"
    }
   ],
   "source": [
    "df.head()"
   ]
  },
  {
   "cell_type": "code",
   "execution_count": 4,
   "id": "c36ccaff",
   "metadata": {},
   "outputs": [
    {
     "data": {
      "text/plain": [
       "(1000, 2)"
      ]
     },
     "execution_count": 4,
     "metadata": {},
     "output_type": "execute_result"
    }
   ],
   "source": [
    "df.shape"
   ]
  },
  {
   "cell_type": "code",
   "execution_count": 5,
   "id": "7d1daa43",
   "metadata": {},
   "outputs": [
    {
     "data": {
      "text/plain": [
       "Index(['Techstack', 'Links'], dtype='object')"
      ]
     },
     "execution_count": 5,
     "metadata": {},
     "output_type": "execute_result"
    }
   ],
   "source": [
    "df.columns"
   ]
  },
  {
   "cell_type": "markdown",
   "id": "3a7bf3fc",
   "metadata": {},
   "source": [
    "saving the df in chormadb"
   ]
  },
  {
   "cell_type": "code",
   "execution_count": 6,
   "id": "62ff0b1d",
   "metadata": {},
   "outputs": [],
   "source": [
    "import chromadb\n",
    "import uuid\n",
    "client = chromadb.PersistentClient('Vectorstore')\n",
    "collection = client.get_or_create_collection(name='portfolio')\n",
    "\n",
    "# if not collection.count():\n",
    "#     for idx , row in df.iterrows():\n",
    "#         collection.add(\n",
    "#             documents=row['Techstack'],\n",
    "#             metadatas={'links': row['Links']},\n",
    "#             ids=[str(uuid.uuid4())]\n",
    "#         )"
   ]
  },
  {
   "cell_type": "code",
   "execution_count": 9,
   "id": "df0be4e7",
   "metadata": {},
   "outputs": [],
   "source": [
    "# links = collection.query(query_texts=['Experiance in python', 'Experiance in devops'], n_results=2).get('metadatas')\n",
    "# links"
   ]
  },
  {
   "cell_type": "code",
   "execution_count": null,
   "id": "e7baab2e",
   "metadata": {},
   "outputs": [],
   "source": []
  }
 ],
 "metadata": {
  "kernelspec": {
   "display_name": "Python 3",
   "language": "python",
   "name": "python3"
  },
  "language_info": {
   "codemirror_mode": {
    "name": "ipython",
    "version": 3
   },
   "file_extension": ".py",
   "mimetype": "text/x-python",
   "name": "python",
   "nbconvert_exporter": "python",
   "pygments_lexer": "ipython3",
   "version": "3.11.4"
  }
 },
 "nbformat": 4,
 "nbformat_minor": 5
}
