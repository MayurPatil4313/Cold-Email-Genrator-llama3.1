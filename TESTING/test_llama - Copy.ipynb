{
 "cells": [
  {
   "cell_type": "code",
   "execution_count": 21,
   "id": "660a2b6e",
   "metadata": {},
   "outputs": [],
   "source": [
    "import os\n",
    "from dotenv import load_dotenv\n",
    "load_dotenv()\n",
    "api_key = os.getenv(\"API_KEY\")"
   ]
  },
  {
   "cell_type": "code",
   "execution_count": 10,
   "id": "86594bac",
   "metadata": {},
   "outputs": [],
   "source": [
    "from langchain_groq import ChatGroq\n",
    "\n",
    "llm = ChatGroq(\n",
    "    model=\"llama3-70b-8192\",\n",
    "    temperature = 0,\n",
    "    groq_api_key = api_key\n",
    ")"
   ]
  },
  {
   "cell_type": "code",
   "execution_count": 17,
   "id": "e982f125",
   "metadata": {},
   "outputs": [
    {
     "name": "stdout",
     "output_type": "stream",
     "text": [
      "That's an easy one!\n",
      "\n",
      "The first person to set foot on the Moon was Neil Armstrong. He stepped out of the lunar module Eagle and onto the Moon's surface on July 20, 1969, during the Apollo 11 mission.\n",
      "\n",
      "Armstrong famously declared, \"That's one small step for man, one giant leap for mankind,\" as he became the first human to walk on the Moon.\n",
      "\n",
      "He was followed by fellow astronaut Edwin \"Buzz\" Aldrin, who also walked on the Moon during the mission.\n"
     ]
    }
   ],
   "source": [
    "response = llm.invoke(\"the first person to land on moon was... \")\n",
    "print(response.content)"
   ]
  },
  {
   "cell_type": "code",
   "execution_count": 19,
   "id": "cc29dcd8",
   "metadata": {},
   "outputs": [
    {
     "name": "stdout",
     "output_type": "stream",
     "text": [
      "==================================\u001b[1m Ai Message \u001b[0m==================================\n",
      "\n",
      "That's an easy one!\n",
      "\n",
      "The first person to set foot on the Moon was Neil Armstrong. He stepped out of the lunar module Eagle and onto the Moon's surface on July 20, 1969, during the Apollo 11 mission.\n",
      "\n",
      "Armstrong famously declared, \"That's one small step for man, one giant leap for mankind,\" as he became the first human to walk on the Moon.\n",
      "\n",
      "He was followed by fellow astronaut Edwin \"Buzz\" Aldrin, who also walked on the Moon during the mission.\n"
     ]
    }
   ],
   "source": [
    "response.pretty_print()"
   ]
  },
  {
   "cell_type": "code",
   "execution_count": 20,
   "id": "86d70045",
   "metadata": {},
   "outputs": [
    {
     "name": "stdout",
     "output_type": "stream",
     "text": [
      "<bound method BaseMessage.text of AIMessage(content='That\\'s an easy one!\\n\\nThe first person to set foot on the Moon was Neil Armstrong. He stepped out of the lunar module Eagle and onto the Moon\\'s surface on July 20, 1969, during the Apollo 11 mission.\\n\\nArmstrong famously declared, \"That\\'s one small step for man, one giant leap for mankind,\" as he became the first human to walk on the Moon.\\n\\nHe was followed by fellow astronaut Edwin \"Buzz\" Aldrin, who also walked on the Moon during the mission.', additional_kwargs={}, response_metadata={'token_usage': {'completion_tokens': 105, 'prompt_tokens': 20, 'total_tokens': 125, 'completion_time': 0.45017716, 'prompt_time': 0.000520402, 'queue_time': 0.29009357900000005, 'total_time': 0.450697562}, 'model_name': 'llama3-70b-8192', 'system_fingerprint': 'fp_bf16903a67', 'service_tier': 'on_demand', 'finish_reason': 'stop', 'logprobs': None}, id='run--7d9fb286-302f-41f1-a227-a018c348a8ff-0', usage_metadata={'input_tokens': 20, 'output_tokens': 105, 'total_tokens': 125})>\n"
     ]
    }
   ],
   "source": [
    "print(response.text)"
   ]
  }
 ],
 "metadata": {
  "kernelspec": {
   "display_name": "Python 3",
   "language": "python",
   "name": "python3"
  },
  "language_info": {
   "codemirror_mode": {
    "name": "ipython",
    "version": 3
   },
   "file_extension": ".py",
   "mimetype": "text/x-python",
   "name": "python",
   "nbconvert_exporter": "python",
   "pygments_lexer": "ipython3",
   "version": "3.11.4"
  }
 },
 "nbformat": 4,
 "nbformat_minor": 5
}
