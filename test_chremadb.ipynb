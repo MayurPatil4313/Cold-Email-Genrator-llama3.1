{
 "cells": [
  {
   "cell_type": "markdown",
   "id": "b547883a",
   "metadata": {},
   "source": [
    "https://docs.trychroma.com/docs/overview/getting-started"
   ]
  },
  {
   "cell_type": "code",
   "execution_count": 39,
   "id": "11a24611",
   "metadata": {},
   "outputs": [],
   "source": [
    "# Create a Chroma Client\n",
    "import chromadb\n",
    "chroma_client = chromadb.Client()"
   ]
  },
  {
   "cell_type": "code",
   "execution_count": 40,
   "id": "9cf1caf5",
   "metadata": {},
   "outputs": [],
   "source": [
    "#  Create a collection\n",
    "# collection = chroma_client.create_collection(\n",
    "#     name=\"my_collection\",\n",
    "# )\n",
    "collection = chroma_client.get_or_create_collection(\n",
    "    name=\"my_collection\",\n",
    ")\n"
   ]
  },
  {
   "cell_type": "code",
   "execution_count": 41,
   "id": "392b9137",
   "metadata": {},
   "outputs": [],
   "source": [
    "# Add some text documents to the collection\n",
    "collection.add(\n",
    "    ids=[\"id1\", \"id2\"],\n",
    "    documents=[\n",
    "        \"This is a document about pineapple\",\n",
    "        \"This is a document about oranges\"\n",
    "    ]\n",
    ")"
   ]
  },
  {
   "cell_type": "code",
   "execution_count": 42,
   "id": "145ad8e3",
   "metadata": {},
   "outputs": [
    {
     "data": {
      "text/plain": [
       "{'ids': ['id1', 'id2'],\n",
       " 'embeddings': None,\n",
       " 'documents': ['This is a document about pineapple',\n",
       "  'This is a document about oranges'],\n",
       " 'uris': None,\n",
       " 'included': ['metadatas', 'documents'],\n",
       " 'data': None,\n",
       " 'metadatas': [None, None]}"
      ]
     },
     "execution_count": 42,
     "metadata": {},
     "output_type": "execute_result"
    }
   ],
   "source": [
    "# get all the documents\n",
    "collection.get()"
   ]
  },
  {
   "cell_type": "code",
   "execution_count": 43,
   "id": "373db022",
   "metadata": {},
   "outputs": [
    {
     "data": {
      "text/plain": [
       "{'ids': ['id2'],\n",
       " 'embeddings': None,\n",
       " 'documents': ['This is a document about oranges'],\n",
       " 'uris': None,\n",
       " 'included': ['metadatas', 'documents'],\n",
       " 'data': None,\n",
       " 'metadatas': [None]}"
      ]
     },
     "execution_count": 43,
     "metadata": {},
     "output_type": "execute_result"
    }
   ],
   "source": [
    "# get specific the documents\n",
    "collection.get(ids=['id2'])"
   ]
  },
  {
   "cell_type": "code",
   "execution_count": 44,
   "id": "7c06021f",
   "metadata": {},
   "outputs": [
    {
     "data": {
      "text/plain": [
       "{'ids': [['id1', 'id2']],\n",
       " 'embeddings': None,\n",
       " 'documents': [['This is a document about pineapple',\n",
       "   'This is a document about oranges']],\n",
       " 'uris': None,\n",
       " 'included': ['metadatas', 'documents', 'distances'],\n",
       " 'data': None,\n",
       " 'metadatas': [[None, None]],\n",
       " 'distances': [[1.0404009819030762, 1.2430799007415771]]}"
      ]
     },
     "execution_count": 44,
     "metadata": {},
     "output_type": "execute_result"
    }
   ],
   "source": [
    "#  Query the collection\n",
    "results = collection.query(\n",
    "    query_texts=[\"This is a query document about hawaii\"], # Chroma will embed this for you\n",
    "    n_results=2 # how many results to return\n",
    ")\n",
    "results\n",
    "# If n_results is not provided, Chroma will return 10 results by default. "
   ]
  },
  {
   "cell_type": "code",
   "execution_count": 45,
   "id": "9cf78d45",
   "metadata": {},
   "outputs": [
    {
     "data": {
      "text/plain": [
       "[Collection(name=my_collection)]"
      ]
     },
     "execution_count": 45,
     "metadata": {},
     "output_type": "execute_result"
    }
   ],
   "source": [
    "# to show the list of collection\n",
    "chroma_client.list_collections()"
   ]
  },
  {
   "cell_type": "code",
   "execution_count": 46,
   "id": "0a32acb0",
   "metadata": {},
   "outputs": [],
   "source": [
    "# to delete collection\n",
    "# chroma_client.delete_collection(name=\"my_collection\")"
   ]
  }
 ],
 "metadata": {
  "kernelspec": {
   "display_name": "Python 3",
   "language": "python",
   "name": "python3"
  },
  "language_info": {
   "codemirror_mode": {
    "name": "ipython",
    "version": 3
   },
   "file_extension": ".py",
   "mimetype": "text/x-python",
   "name": "python",
   "nbconvert_exporter": "python",
   "pygments_lexer": "ipython3",
   "version": "3.11.4"
  }
 },
 "nbformat": 4,
 "nbformat_minor": 5
}
